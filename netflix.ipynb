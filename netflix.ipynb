{
 "cells": [
  {
   "cell_type": "markdown",
   "metadata": {
    "id": "c3ee9b4b"
   },
   "source": [
    "# **NETFLIX DATA ANALYSIS WITH PYTHON**"
   ]
  },
  {
   "cell_type": "markdown",
   "metadata": {
    "id": "7bf83273"
   },
   "source": [
    "<a href='https://www.netflix.com'> <img src='./Netflix-Logo'/></a>"
   ]
  },
  {
   "cell_type": "markdown",
   "metadata": {
    "id": "2438f3a1"
   },
   "source": [
    "*This Netflix dataset holds the information of all the **TV Shows and Movies** available on Netflix till **2021** *\n",
    "\n",
    "The dataset holds the following field:\n",
    "\n",
    "* Show id\n",
    "* Category ('Movies' or 'TV Show')\n",
    "* Title\n",
    "* Director\n",
    "* Cast\n",
    "* Country\n",
    "* Release Date\n",
    "* Rating\n",
    "* Duration\n",
    "* Type\n",
    "* Description"
   ]
  },
  {
   "cell_type": "markdown",
   "metadata": {
    "id": "dac99377"
   },
   "source": [
    "## Importing necessary Libraries and reading the Dataset."
   ]
  },
  {
   "cell_type": "code",
   "execution_count": 1,
   "metadata": {
    "executionInfo": {
     "elapsed": 893,
     "status": "ok",
     "timestamp": 1640686984732,
     "user": {
      "displayName": "Ravi Savaliya",
      "photoUrl": "https://lh3.googleusercontent.com/a/default-user=s64",
      "userId": "00439214527936408803"
     },
     "user_tz": -330
    },
    "id": "1d987d1f"
   },
   "outputs": [],
   "source": [
    "import pandas as pd\n",
    "import matplotlib.pyplot as plt\n",
    "import seaborn as sns\n",
    "%matplotlib inline"
   ]
  },
  {
   "cell_type": "code",
   "execution_count": 3,
   "metadata": {
    "executionInfo": {
     "elapsed": 90,
     "status": "ok",
     "timestamp": 1640686985488,
     "user": {
      "displayName": "Ravi Savaliya",
      "photoUrl": "https://lh3.googleusercontent.com/a/default-user=s64",
      "userId": "00439214527936408803"
     },
     "user_tz": -330
    },
    "id": "71cce0c8"
   },
   "outputs": [],
   "source": [
    "df=pd.read_csv('netflix_dataset.csv') "
   ]
  },
  {
   "cell_type": "markdown",
   "metadata": {
    "id": "f1e35825"
   },
   "source": [
    "## Getting some basic information about our dataset"
   ]
  },
  {
   "cell_type": "code",
   "execution_count": 4,
   "metadata": {
    "colab": {
     "base_uri": "https://localhost:8080/",
     "height": 424
    },
    "executionInfo": {
     "elapsed": 91,
     "status": "ok",
     "timestamp": 1640686985492,
     "user": {
      "displayName": "Ravi Savaliya",
      "photoUrl": "https://lh3.googleusercontent.com/a/default-user=s64",
      "userId": "00439214527936408803"
     },
     "user_tz": -330
    },
    "id": "8dd3b24e",
    "outputId": "45732cc4-2b53-47cf-cce6-6eba40efcaf0"
   },
   "outputs": [
    {
     "data": {
      "text/html": [
       "<div>\n",
       "<style scoped>\n",
       "    .dataframe tbody tr th:only-of-type {\n",
       "        vertical-align: middle;\n",
       "    }\n",
       "\n",
       "    .dataframe tbody tr th {\n",
       "        vertical-align: top;\n",
       "    }\n",
       "\n",
       "    .dataframe thead th {\n",
       "        text-align: right;\n",
       "    }\n",
       "</style>\n",
       "<table border=\"1\" class=\"dataframe\">\n",
       "  <thead>\n",
       "    <tr style=\"text-align: right;\">\n",
       "      <th></th>\n",
       "      <th>Show_Id</th>\n",
       "      <th>Category</th>\n",
       "      <th>Title</th>\n",
       "      <th>Director</th>\n",
       "      <th>Cast</th>\n",
       "      <th>Country</th>\n",
       "      <th>Release_Date</th>\n",
       "      <th>Rating</th>\n",
       "      <th>Duration</th>\n",
       "      <th>Type</th>\n",
       "      <th>Description</th>\n",
       "    </tr>\n",
       "  </thead>\n",
       "  <tbody>\n",
       "    <tr>\n",
       "      <th>0</th>\n",
       "      <td>s1</td>\n",
       "      <td>TV Show</td>\n",
       "      <td>3%</td>\n",
       "      <td>NaN</td>\n",
       "      <td>João Miguel, Bianca Comparato, Michel Gomes, R...</td>\n",
       "      <td>Brazil</td>\n",
       "      <td>August 14, 2020</td>\n",
       "      <td>TV-MA</td>\n",
       "      <td>4 Seasons</td>\n",
       "      <td>International TV Shows, TV Dramas, TV Sci-Fi &amp;...</td>\n",
       "      <td>In a future where the elite inhabit an island ...</td>\n",
       "    </tr>\n",
       "    <tr>\n",
       "      <th>1</th>\n",
       "      <td>s2</td>\n",
       "      <td>Movie</td>\n",
       "      <td>07:19</td>\n",
       "      <td>Jorge Michel Grau</td>\n",
       "      <td>Demián Bichir, Héctor Bonilla, Oscar Serrano, ...</td>\n",
       "      <td>Mexico</td>\n",
       "      <td>December 23, 2016</td>\n",
       "      <td>TV-MA</td>\n",
       "      <td>93 min</td>\n",
       "      <td>Dramas, International Movies</td>\n",
       "      <td>After a devastating earthquake hits Mexico Cit...</td>\n",
       "    </tr>\n",
       "    <tr>\n",
       "      <th>2</th>\n",
       "      <td>s3</td>\n",
       "      <td>Movie</td>\n",
       "      <td>23:59</td>\n",
       "      <td>Gilbert Chan</td>\n",
       "      <td>Tedd Chan, Stella Chung, Henley Hii, Lawrence ...</td>\n",
       "      <td>Singapore</td>\n",
       "      <td>December 20, 2018</td>\n",
       "      <td>R</td>\n",
       "      <td>78 min</td>\n",
       "      <td>Horror Movies, International Movies</td>\n",
       "      <td>When an army recruit is found dead, his fellow...</td>\n",
       "    </tr>\n",
       "    <tr>\n",
       "      <th>3</th>\n",
       "      <td>s4</td>\n",
       "      <td>Movie</td>\n",
       "      <td>9</td>\n",
       "      <td>Shane Acker</td>\n",
       "      <td>Elijah Wood, John C. Reilly, Jennifer Connelly...</td>\n",
       "      <td>United States</td>\n",
       "      <td>November 16, 2017</td>\n",
       "      <td>PG-13</td>\n",
       "      <td>80 min</td>\n",
       "      <td>Action &amp; Adventure, Independent Movies, Sci-Fi...</td>\n",
       "      <td>In a postapocalyptic world, rag-doll robots hi...</td>\n",
       "    </tr>\n",
       "    <tr>\n",
       "      <th>4</th>\n",
       "      <td>s5</td>\n",
       "      <td>Movie</td>\n",
       "      <td>21</td>\n",
       "      <td>Robert Luketic</td>\n",
       "      <td>Jim Sturgess, Kevin Spacey, Kate Bosworth, Aar...</td>\n",
       "      <td>United States</td>\n",
       "      <td>January 1, 2020</td>\n",
       "      <td>PG-13</td>\n",
       "      <td>123 min</td>\n",
       "      <td>Dramas</td>\n",
       "      <td>A brilliant group of students become card-coun...</td>\n",
       "    </tr>\n",
       "    <tr>\n",
       "      <th>...</th>\n",
       "      <td>...</td>\n",
       "      <td>...</td>\n",
       "      <td>...</td>\n",
       "      <td>...</td>\n",
       "      <td>...</td>\n",
       "      <td>...</td>\n",
       "      <td>...</td>\n",
       "      <td>...</td>\n",
       "      <td>...</td>\n",
       "      <td>...</td>\n",
       "      <td>...</td>\n",
       "    </tr>\n",
       "    <tr>\n",
       "      <th>7784</th>\n",
       "      <td>s7783</td>\n",
       "      <td>Movie</td>\n",
       "      <td>Zozo</td>\n",
       "      <td>Josef Fares</td>\n",
       "      <td>Imad Creidi, Antoinette Turk, Elias Gergi, Car...</td>\n",
       "      <td>Sweden, Czech Republic, United Kingdom, Denmar...</td>\n",
       "      <td>October 19, 2020</td>\n",
       "      <td>TV-MA</td>\n",
       "      <td>99 min</td>\n",
       "      <td>Dramas, International Movies</td>\n",
       "      <td>When Lebanon's Civil War deprives Zozo of his ...</td>\n",
       "    </tr>\n",
       "    <tr>\n",
       "      <th>7785</th>\n",
       "      <td>s7784</td>\n",
       "      <td>Movie</td>\n",
       "      <td>Zubaan</td>\n",
       "      <td>Mozez Singh</td>\n",
       "      <td>Vicky Kaushal, Sarah-Jane Dias, Raaghav Chanan...</td>\n",
       "      <td>India</td>\n",
       "      <td>March 2, 2019</td>\n",
       "      <td>TV-14</td>\n",
       "      <td>111 min</td>\n",
       "      <td>Dramas, International Movies, Music &amp; Musicals</td>\n",
       "      <td>A scrappy but poor boy worms his way into a ty...</td>\n",
       "    </tr>\n",
       "    <tr>\n",
       "      <th>7786</th>\n",
       "      <td>s7785</td>\n",
       "      <td>Movie</td>\n",
       "      <td>Zulu Man in Japan</td>\n",
       "      <td>NaN</td>\n",
       "      <td>Nasty C</td>\n",
       "      <td>NaN</td>\n",
       "      <td>September 25, 2020</td>\n",
       "      <td>TV-MA</td>\n",
       "      <td>44 min</td>\n",
       "      <td>Documentaries, International Movies, Music &amp; M...</td>\n",
       "      <td>In this documentary, South African rapper Nast...</td>\n",
       "    </tr>\n",
       "    <tr>\n",
       "      <th>7787</th>\n",
       "      <td>s7786</td>\n",
       "      <td>TV Show</td>\n",
       "      <td>Zumbo's Just Desserts</td>\n",
       "      <td>NaN</td>\n",
       "      <td>Adriano Zumbo, Rachel Khoo</td>\n",
       "      <td>Australia</td>\n",
       "      <td>October 31, 2020</td>\n",
       "      <td>TV-PG</td>\n",
       "      <td>1 Season</td>\n",
       "      <td>International TV Shows, Reality TV</td>\n",
       "      <td>Dessert wizard Adriano Zumbo looks for the nex...</td>\n",
       "    </tr>\n",
       "    <tr>\n",
       "      <th>7788</th>\n",
       "      <td>s7787</td>\n",
       "      <td>Movie</td>\n",
       "      <td>ZZ TOP: THAT LITTLE OL' BAND FROM TEXAS</td>\n",
       "      <td>Sam Dunn</td>\n",
       "      <td>NaN</td>\n",
       "      <td>United Kingdom, Canada, United States</td>\n",
       "      <td>March 1, 2020</td>\n",
       "      <td>TV-MA</td>\n",
       "      <td>90 min</td>\n",
       "      <td>Documentaries, Music &amp; Musicals</td>\n",
       "      <td>This documentary delves into the mystique behi...</td>\n",
       "    </tr>\n",
       "  </tbody>\n",
       "</table>\n",
       "<p>7789 rows × 11 columns</p>\n",
       "</div>"
      ],
      "text/plain": [
       "     Show_Id Category                                    Title  \\\n",
       "0         s1  TV Show                                       3%   \n",
       "1         s2    Movie                                    07:19   \n",
       "2         s3    Movie                                    23:59   \n",
       "3         s4    Movie                                        9   \n",
       "4         s5    Movie                                       21   \n",
       "...      ...      ...                                      ...   \n",
       "7784   s7783    Movie                                     Zozo   \n",
       "7785   s7784    Movie                                   Zubaan   \n",
       "7786   s7785    Movie                        Zulu Man in Japan   \n",
       "7787   s7786  TV Show                    Zumbo's Just Desserts   \n",
       "7788   s7787    Movie  ZZ TOP: THAT LITTLE OL' BAND FROM TEXAS   \n",
       "\n",
       "               Director                                               Cast  \\\n",
       "0                   NaN  João Miguel, Bianca Comparato, Michel Gomes, R...   \n",
       "1     Jorge Michel Grau  Demián Bichir, Héctor Bonilla, Oscar Serrano, ...   \n",
       "2          Gilbert Chan  Tedd Chan, Stella Chung, Henley Hii, Lawrence ...   \n",
       "3           Shane Acker  Elijah Wood, John C. Reilly, Jennifer Connelly...   \n",
       "4        Robert Luketic  Jim Sturgess, Kevin Spacey, Kate Bosworth, Aar...   \n",
       "...                 ...                                                ...   \n",
       "7784        Josef Fares  Imad Creidi, Antoinette Turk, Elias Gergi, Car...   \n",
       "7785        Mozez Singh  Vicky Kaushal, Sarah-Jane Dias, Raaghav Chanan...   \n",
       "7786                NaN                                            Nasty C   \n",
       "7787                NaN                         Adriano Zumbo, Rachel Khoo   \n",
       "7788           Sam Dunn                                                NaN   \n",
       "\n",
       "                                                Country        Release_Date  \\\n",
       "0                                                Brazil     August 14, 2020   \n",
       "1                                                Mexico   December 23, 2016   \n",
       "2                                             Singapore   December 20, 2018   \n",
       "3                                         United States   November 16, 2017   \n",
       "4                                         United States     January 1, 2020   \n",
       "...                                                 ...                 ...   \n",
       "7784  Sweden, Czech Republic, United Kingdom, Denmar...    October 19, 2020   \n",
       "7785                                              India       March 2, 2019   \n",
       "7786                                                NaN  September 25, 2020   \n",
       "7787                                          Australia    October 31, 2020   \n",
       "7788              United Kingdom, Canada, United States       March 1, 2020   \n",
       "\n",
       "     Rating   Duration                                               Type  \\\n",
       "0     TV-MA  4 Seasons  International TV Shows, TV Dramas, TV Sci-Fi &...   \n",
       "1     TV-MA     93 min                       Dramas, International Movies   \n",
       "2         R     78 min                Horror Movies, International Movies   \n",
       "3     PG-13     80 min  Action & Adventure, Independent Movies, Sci-Fi...   \n",
       "4     PG-13    123 min                                             Dramas   \n",
       "...     ...        ...                                                ...   \n",
       "7784  TV-MA     99 min                       Dramas, International Movies   \n",
       "7785  TV-14    111 min     Dramas, International Movies, Music & Musicals   \n",
       "7786  TV-MA     44 min  Documentaries, International Movies, Music & M...   \n",
       "7787  TV-PG   1 Season                 International TV Shows, Reality TV   \n",
       "7788  TV-MA     90 min                    Documentaries, Music & Musicals   \n",
       "\n",
       "                                            Description  \n",
       "0     In a future where the elite inhabit an island ...  \n",
       "1     After a devastating earthquake hits Mexico Cit...  \n",
       "2     When an army recruit is found dead, his fellow...  \n",
       "3     In a postapocalyptic world, rag-doll robots hi...  \n",
       "4     A brilliant group of students become card-coun...  \n",
       "...                                                 ...  \n",
       "7784  When Lebanon's Civil War deprives Zozo of his ...  \n",
       "7785  A scrappy but poor boy worms his way into a ty...  \n",
       "7786  In this documentary, South African rapper Nast...  \n",
       "7787  Dessert wizard Adriano Zumbo looks for the nex...  \n",
       "7788  This documentary delves into the mystique behi...  \n",
       "\n",
       "[7789 rows x 11 columns]"
      ]
     },
     "execution_count": 4,
     "metadata": {},
     "output_type": "execute_result"
    }
   ],
   "source": [
    " df"
   ]
  },
  {
   "cell_type": "code",
   "execution_count": 5,
   "metadata": {
    "colab": {
     "base_uri": "https://localhost:8080/",
     "height": 545
    },
    "executionInfo": {
     "elapsed": 90,
     "status": "ok",
     "timestamp": 1640686985498,
     "user": {
      "displayName": "Ravi Savaliya",
      "photoUrl": "https://lh3.googleusercontent.com/a/default-user=s64",
      "userId": "00439214527936408803"
     },
     "user_tz": -330
    },
    "id": "ea300d2a",
    "outputId": "f9dcae4e-fb73-42aa-bf65-940343841cd1"
   },
   "outputs": [
    {
     "data": {
      "text/html": [
       "<div>\n",
       "<style scoped>\n",
       "    .dataframe tbody tr th:only-of-type {\n",
       "        vertical-align: middle;\n",
       "    }\n",
       "\n",
       "    .dataframe tbody tr th {\n",
       "        vertical-align: top;\n",
       "    }\n",
       "\n",
       "    .dataframe thead th {\n",
       "        text-align: right;\n",
       "    }\n",
       "</style>\n",
       "<table border=\"1\" class=\"dataframe\">\n",
       "  <thead>\n",
       "    <tr style=\"text-align: right;\">\n",
       "      <th></th>\n",
       "      <th>Show_Id</th>\n",
       "      <th>Category</th>\n",
       "      <th>Title</th>\n",
       "      <th>Director</th>\n",
       "      <th>Cast</th>\n",
       "      <th>Country</th>\n",
       "      <th>Release_Date</th>\n",
       "      <th>Rating</th>\n",
       "      <th>Duration</th>\n",
       "      <th>Type</th>\n",
       "      <th>Description</th>\n",
       "    </tr>\n",
       "  </thead>\n",
       "  <tbody>\n",
       "    <tr>\n",
       "      <th>7784</th>\n",
       "      <td>s7783</td>\n",
       "      <td>Movie</td>\n",
       "      <td>Zozo</td>\n",
       "      <td>Josef Fares</td>\n",
       "      <td>Imad Creidi, Antoinette Turk, Elias Gergi, Car...</td>\n",
       "      <td>Sweden, Czech Republic, United Kingdom, Denmar...</td>\n",
       "      <td>October 19, 2020</td>\n",
       "      <td>TV-MA</td>\n",
       "      <td>99 min</td>\n",
       "      <td>Dramas, International Movies</td>\n",
       "      <td>When Lebanon's Civil War deprives Zozo of his ...</td>\n",
       "    </tr>\n",
       "    <tr>\n",
       "      <th>7785</th>\n",
       "      <td>s7784</td>\n",
       "      <td>Movie</td>\n",
       "      <td>Zubaan</td>\n",
       "      <td>Mozez Singh</td>\n",
       "      <td>Vicky Kaushal, Sarah-Jane Dias, Raaghav Chanan...</td>\n",
       "      <td>India</td>\n",
       "      <td>March 2, 2019</td>\n",
       "      <td>TV-14</td>\n",
       "      <td>111 min</td>\n",
       "      <td>Dramas, International Movies, Music &amp; Musicals</td>\n",
       "      <td>A scrappy but poor boy worms his way into a ty...</td>\n",
       "    </tr>\n",
       "    <tr>\n",
       "      <th>7786</th>\n",
       "      <td>s7785</td>\n",
       "      <td>Movie</td>\n",
       "      <td>Zulu Man in Japan</td>\n",
       "      <td>NaN</td>\n",
       "      <td>Nasty C</td>\n",
       "      <td>NaN</td>\n",
       "      <td>September 25, 2020</td>\n",
       "      <td>TV-MA</td>\n",
       "      <td>44 min</td>\n",
       "      <td>Documentaries, International Movies, Music &amp; M...</td>\n",
       "      <td>In this documentary, South African rapper Nast...</td>\n",
       "    </tr>\n",
       "    <tr>\n",
       "      <th>7787</th>\n",
       "      <td>s7786</td>\n",
       "      <td>TV Show</td>\n",
       "      <td>Zumbo's Just Desserts</td>\n",
       "      <td>NaN</td>\n",
       "      <td>Adriano Zumbo, Rachel Khoo</td>\n",
       "      <td>Australia</td>\n",
       "      <td>October 31, 2020</td>\n",
       "      <td>TV-PG</td>\n",
       "      <td>1 Season</td>\n",
       "      <td>International TV Shows, Reality TV</td>\n",
       "      <td>Dessert wizard Adriano Zumbo looks for the nex...</td>\n",
       "    </tr>\n",
       "    <tr>\n",
       "      <th>7788</th>\n",
       "      <td>s7787</td>\n",
       "      <td>Movie</td>\n",
       "      <td>ZZ TOP: THAT LITTLE OL' BAND FROM TEXAS</td>\n",
       "      <td>Sam Dunn</td>\n",
       "      <td>NaN</td>\n",
       "      <td>United Kingdom, Canada, United States</td>\n",
       "      <td>March 1, 2020</td>\n",
       "      <td>TV-MA</td>\n",
       "      <td>90 min</td>\n",
       "      <td>Documentaries, Music &amp; Musicals</td>\n",
       "      <td>This documentary delves into the mystique behi...</td>\n",
       "    </tr>\n",
       "  </tbody>\n",
       "</table>\n",
       "</div>"
      ],
      "text/plain": [
       "     Show_Id Category                                    Title     Director  \\\n",
       "7784   s7783    Movie                                     Zozo  Josef Fares   \n",
       "7785   s7784    Movie                                   Zubaan  Mozez Singh   \n",
       "7786   s7785    Movie                        Zulu Man in Japan          NaN   \n",
       "7787   s7786  TV Show                    Zumbo's Just Desserts          NaN   \n",
       "7788   s7787    Movie  ZZ TOP: THAT LITTLE OL' BAND FROM TEXAS     Sam Dunn   \n",
       "\n",
       "                                                   Cast  \\\n",
       "7784  Imad Creidi, Antoinette Turk, Elias Gergi, Car...   \n",
       "7785  Vicky Kaushal, Sarah-Jane Dias, Raaghav Chanan...   \n",
       "7786                                            Nasty C   \n",
       "7787                         Adriano Zumbo, Rachel Khoo   \n",
       "7788                                                NaN   \n",
       "\n",
       "                                                Country        Release_Date  \\\n",
       "7784  Sweden, Czech Republic, United Kingdom, Denmar...    October 19, 2020   \n",
       "7785                                              India       March 2, 2019   \n",
       "7786                                                NaN  September 25, 2020   \n",
       "7787                                          Australia    October 31, 2020   \n",
       "7788              United Kingdom, Canada, United States       March 1, 2020   \n",
       "\n",
       "     Rating  Duration                                               Type  \\\n",
       "7784  TV-MA    99 min                       Dramas, International Movies   \n",
       "7785  TV-14   111 min     Dramas, International Movies, Music & Musicals   \n",
       "7786  TV-MA    44 min  Documentaries, International Movies, Music & M...   \n",
       "7787  TV-PG  1 Season                 International TV Shows, Reality TV   \n",
       "7788  TV-MA    90 min                    Documentaries, Music & Musicals   \n",
       "\n",
       "                                            Description  \n",
       "7784  When Lebanon's Civil War deprives Zozo of his ...  \n",
       "7785  A scrappy but poor boy worms his way into a ty...  \n",
       "7786  In this documentary, South African rapper Nast...  \n",
       "7787  Dessert wizard Adriano Zumbo looks for the nex...  \n",
       "7788  This documentary delves into the mystique behi...  "
      ]
     },
     "execution_count": 5,
     "metadata": {},
     "output_type": "execute_result"
    }
   ],
   "source": [
    "df.tail()"
   ]
  },
  {
   "cell_type": "code",
   "execution_count": 6,
   "metadata": {
    "colab": {
     "base_uri": "https://localhost:8080/"
    },
    "executionInfo": {
     "elapsed": 90,
     "status": "ok",
     "timestamp": 1640686985504,
     "user": {
      "displayName": "Ravi Savaliya",
      "photoUrl": "https://lh3.googleusercontent.com/a/default-user=s64",
      "userId": "00439214527936408803"
     },
     "user_tz": -330
    },
    "id": "c7235ebd",
    "outputId": "f6d8db66-95a3-4802-9a1f-f3a198e0bf20"
   },
   "outputs": [
    {
     "data": {
      "text/plain": [
       "(7789, 11)"
      ]
     },
     "execution_count": 6,
     "metadata": {},
     "output_type": "execute_result"
    }
   ],
   "source": [
    "df.shape"
   ]
  },
  {
   "cell_type": "code",
   "execution_count": 7,
   "metadata": {
    "colab": {
     "base_uri": "https://localhost:8080/"
    },
    "executionInfo": {
     "elapsed": 90,
     "status": "ok",
     "timestamp": 1640686985509,
     "user": {
      "displayName": "Ravi Savaliya",
      "photoUrl": "https://lh3.googleusercontent.com/a/default-user=s64",
      "userId": "00439214527936408803"
     },
     "user_tz": -330
    },
    "id": "2165e5cd",
    "outputId": "18607086-a833-422c-a19a-f006a084780f"
   },
   "outputs": [
    {
     "data": {
      "text/plain": [
       "85679"
      ]
     },
     "execution_count": 7,
     "metadata": {},
     "output_type": "execute_result"
    }
   ],
   "source": [
    "df.size"
   ]
  },
  {
   "cell_type": "code",
   "execution_count": 8,
   "metadata": {
    "colab": {
     "base_uri": "https://localhost:8080/"
    },
    "executionInfo": {
     "elapsed": 89,
     "status": "ok",
     "timestamp": 1640686985512,
     "user": {
      "displayName": "Ravi Savaliya",
      "photoUrl": "https://lh3.googleusercontent.com/a/default-user=s64",
      "userId": "00439214527936408803"
     },
     "user_tz": -330
    },
    "id": "9cf1cdfc",
    "outputId": "c951dfc4-71e6-4548-e978-32ecf2abbe32"
   },
   "outputs": [
    {
     "data": {
      "text/plain": [
       "Index(['Show_Id', 'Category', 'Title', 'Director', 'Cast', 'Country',\n",
       "       'Release_Date', 'Rating', 'Duration', 'Type', 'Description'],\n",
       "      dtype='object')"
      ]
     },
     "execution_count": 8,
     "metadata": {},
     "output_type": "execute_result"
    }
   ],
   "source": [
    "df.columns"
   ]
  },
  {
   "cell_type": "code",
   "execution_count": 9,
   "metadata": {
    "colab": {
     "base_uri": "https://localhost:8080/"
    },
    "executionInfo": {
     "elapsed": 88,
     "status": "ok",
     "timestamp": 1640686985513,
     "user": {
      "displayName": "Ravi Savaliya",
      "photoUrl": "https://lh3.googleusercontent.com/a/default-user=s64",
      "userId": "00439214527936408803"
     },
     "user_tz": -330
    },
    "id": "06ff9bb0",
    "outputId": "9b624ed7-b88b-4552-d0b3-41c80944effa"
   },
   "outputs": [
    {
     "data": {
      "text/plain": [
       "Show_Id         object\n",
       "Category        object\n",
       "Title           object\n",
       "Director        object\n",
       "Cast            object\n",
       "Country         object\n",
       "Release_Date    object\n",
       "Rating          object\n",
       "Duration        object\n",
       "Type            object\n",
       "Description     object\n",
       "dtype: object"
      ]
     },
     "execution_count": 9,
     "metadata": {},
     "output_type": "execute_result"
    }
   ],
   "source": [
    "df.dtypes"
   ]
  },
  {
   "cell_type": "code",
   "execution_count": 10,
   "metadata": {
    "colab": {
     "base_uri": "https://localhost:8080/"
    },
    "executionInfo": {
     "elapsed": 86,
     "status": "ok",
     "timestamp": 1640686985516,
     "user": {
      "displayName": "Ravi Savaliya",
      "photoUrl": "https://lh3.googleusercontent.com/a/default-user=s64",
      "userId": "00439214527936408803"
     },
     "user_tz": -330
    },
    "id": "db0f73c8",
    "outputId": "d7a477ec-a370-4f37-fbb0-aef6181b4644"
   },
   "outputs": [
    {
     "name": "stdout",
     "output_type": "stream",
     "text": [
      "<class 'pandas.core.frame.DataFrame'>\n",
      "RangeIndex: 7789 entries, 0 to 7788\n",
      "Data columns (total 11 columns):\n",
      " #   Column        Non-Null Count  Dtype \n",
      "---  ------        --------------  ----- \n",
      " 0   Show_Id       7789 non-null   object\n",
      " 1   Category      7789 non-null   object\n",
      " 2   Title         7789 non-null   object\n",
      " 3   Director      5401 non-null   object\n",
      " 4   Cast          7071 non-null   object\n",
      " 5   Country       7282 non-null   object\n",
      " 6   Release_Date  7779 non-null   object\n",
      " 7   Rating        7782 non-null   object\n",
      " 8   Duration      7789 non-null   object\n",
      " 9   Type          7789 non-null   object\n",
      " 10  Description   7789 non-null   object\n",
      "dtypes: object(11)\n",
      "memory usage: 334.7+ KB\n"
     ]
    }
   ],
   "source": [
    "df.info()"
   ]
  },
  {
   "cell_type": "markdown",
   "metadata": {
    "id": "e5ff7088"
   },
   "source": [
    "## Dealing with Duplicate records"
   ]
  },
  {
   "cell_type": "code",
   "execution_count": 11,
   "metadata": {
    "colab": {
     "base_uri": "https://localhost:8080/"
    },
    "executionInfo": {
     "elapsed": 83,
     "status": "ok",
     "timestamp": 1640686985518,
     "user": {
      "displayName": "Ravi Savaliya",
      "photoUrl": "https://lh3.googleusercontent.com/a/default-user=s64",
      "userId": "00439214527936408803"
     },
     "user_tz": -330
    },
    "id": "2fdbb4c7",
    "outputId": "e0f3f01b-ed5e-4a16-ac1b-33ffbb71ba38"
   },
   "outputs": [
    {
     "data": {
      "text/plain": [
       "(7789, 11)"
      ]
     },
     "execution_count": 11,
     "metadata": {},
     "output_type": "execute_result"
    }
   ],
   "source": [
    "df.shape"
   ]
  },
  {
   "cell_type": "code",
   "execution_count": 12,
   "metadata": {
    "colab": {
     "base_uri": "https://localhost:8080/",
     "height": 226
    },
    "executionInfo": {
     "elapsed": 82,
     "status": "ok",
     "timestamp": 1640686985520,
     "user": {
      "displayName": "Ravi Savaliya",
      "photoUrl": "https://lh3.googleusercontent.com/a/default-user=s64",
      "userId": "00439214527936408803"
     },
     "user_tz": -330
    },
    "id": "9c7d5f9c",
    "outputId": "3b6264ae-a608-4565-bad2-5ec10a563845"
   },
   "outputs": [
    {
     "data": {
      "text/html": [
       "<div>\n",
       "<style scoped>\n",
       "    .dataframe tbody tr th:only-of-type {\n",
       "        vertical-align: middle;\n",
       "    }\n",
       "\n",
       "    .dataframe tbody tr th {\n",
       "        vertical-align: top;\n",
       "    }\n",
       "\n",
       "    .dataframe thead th {\n",
       "        text-align: right;\n",
       "    }\n",
       "</style>\n",
       "<table border=\"1\" class=\"dataframe\">\n",
       "  <thead>\n",
       "    <tr style=\"text-align: right;\">\n",
       "      <th></th>\n",
       "      <th>Show_Id</th>\n",
       "      <th>Category</th>\n",
       "      <th>Title</th>\n",
       "      <th>Director</th>\n",
       "      <th>Cast</th>\n",
       "      <th>Country</th>\n",
       "      <th>Release_Date</th>\n",
       "      <th>Rating</th>\n",
       "      <th>Duration</th>\n",
       "      <th>Type</th>\n",
       "      <th>Description</th>\n",
       "    </tr>\n",
       "  </thead>\n",
       "  <tbody>\n",
       "    <tr>\n",
       "      <th>6300</th>\n",
       "      <td>s684</td>\n",
       "      <td>Movie</td>\n",
       "      <td>Backfire</td>\n",
       "      <td>Dave Patten</td>\n",
       "      <td>Black Deniro, Byron \"Squally\" Vinson, Dominic ...</td>\n",
       "      <td>United States</td>\n",
       "      <td>April 5, 2019</td>\n",
       "      <td>TV-MA</td>\n",
       "      <td>97 min</td>\n",
       "      <td>Dramas, Independent Movies, Thrillers</td>\n",
       "      <td>When two would-be robbers accidentally kill a ...</td>\n",
       "    </tr>\n",
       "    <tr>\n",
       "      <th>6622</th>\n",
       "      <td>s6621</td>\n",
       "      <td>Movie</td>\n",
       "      <td>The Lost Okoroshi</td>\n",
       "      <td>Abba T. Makama</td>\n",
       "      <td>Seun Ajayi, Judith Audu, Tope Tedela, Ifu Enna...</td>\n",
       "      <td>Nigeria</td>\n",
       "      <td>September 4, 2020</td>\n",
       "      <td>TV-MA</td>\n",
       "      <td>94 min</td>\n",
       "      <td>Comedies, Dramas, Independent Movies</td>\n",
       "      <td>A disillusioned security guard transforms into...</td>\n",
       "    </tr>\n",
       "  </tbody>\n",
       "</table>\n",
       "</div>"
      ],
      "text/plain": [
       "     Show_Id Category              Title        Director  \\\n",
       "6300    s684    Movie           Backfire     Dave Patten   \n",
       "6622   s6621    Movie  The Lost Okoroshi  Abba T. Makama   \n",
       "\n",
       "                                                   Cast        Country  \\\n",
       "6300  Black Deniro, Byron \"Squally\" Vinson, Dominic ...  United States   \n",
       "6622  Seun Ajayi, Judith Audu, Tope Tedela, Ifu Enna...        Nigeria   \n",
       "\n",
       "           Release_Date Rating Duration  \\\n",
       "6300      April 5, 2019  TV-MA   97 min   \n",
       "6622  September 4, 2020  TV-MA   94 min   \n",
       "\n",
       "                                       Type  \\\n",
       "6300  Dramas, Independent Movies, Thrillers   \n",
       "6622   Comedies, Dramas, Independent Movies   \n",
       "\n",
       "                                            Description  \n",
       "6300  When two would-be robbers accidentally kill a ...  \n",
       "6622  A disillusioned security guard transforms into...  "
      ]
     },
     "execution_count": 12,
     "metadata": {},
     "output_type": "execute_result"
    }
   ],
   "source": [
    "df[df.duplicated()]"
   ]
  },
  {
   "cell_type": "code",
   "execution_count": 13,
   "metadata": {
    "executionInfo": {
     "elapsed": 83,
     "status": "ok",
     "timestamp": 1640686985526,
     "user": {
      "displayName": "Ravi Savaliya",
      "photoUrl": "https://lh3.googleusercontent.com/a/default-user=s64",
      "userId": "00439214527936408803"
     },
     "user_tz": -330
    },
    "id": "cbc201ce"
   },
   "outputs": [],
   "source": [
    "df.drop_duplicates(inplace=True)"
   ]
  },
  {
   "cell_type": "code",
   "execution_count": 14,
   "metadata": {
    "colab": {
     "base_uri": "https://localhost:8080/"
    },
    "executionInfo": {
     "elapsed": 83,
     "status": "ok",
     "timestamp": 1640686985527,
     "user": {
      "displayName": "Ravi Savaliya",
      "photoUrl": "https://lh3.googleusercontent.com/a/default-user=s64",
      "userId": "00439214527936408803"
     },
     "user_tz": -330
    },
    "id": "ea5b3608",
    "outputId": "bda40b2a-f183-42a2-8617-549b3a065e3e"
   },
   "outputs": [
    {
     "data": {
      "text/plain": [
       "(7787, 11)"
      ]
     },
     "execution_count": 14,
     "metadata": {},
     "output_type": "execute_result"
    }
   ],
   "source": [
    "df.shape"
   ]
  },
  {
   "cell_type": "markdown",
   "metadata": {
    "id": "bb1e5c17"
   },
   "source": [
    "## Dealing with null values"
   ]
  },
  {
   "cell_type": "code",
   "execution_count": 15,
   "metadata": {
    "colab": {
     "base_uri": "https://localhost:8080/"
    },
    "executionInfo": {
     "elapsed": 22,
     "status": "ok",
     "timestamp": 1640686986031,
     "user": {
      "displayName": "Ravi Savaliya",
      "photoUrl": "https://lh3.googleusercontent.com/a/default-user=s64",
      "userId": "00439214527936408803"
     },
     "user_tz": -330
    },
    "id": "349805ff",
    "outputId": "dc9cafe4-74c6-488e-e049-f95cf10909a8"
   },
   "outputs": [
    {
     "data": {
      "text/plain": [
       "Show_Id            0\n",
       "Category           0\n",
       "Title              0\n",
       "Director        2388\n",
       "Cast             718\n",
       "Country          507\n",
       "Release_Date      10\n",
       "Rating             7\n",
       "Duration           0\n",
       "Type               0\n",
       "Description        0\n",
       "dtype: int64"
      ]
     },
     "execution_count": 15,
     "metadata": {},
     "output_type": "execute_result"
    }
   ],
   "source": [
    "df.isnull().sum()"
   ]
  },
  {
   "cell_type": "code",
   "execution_count": 17,
   "metadata": {
    "colab": {
     "base_uri": "https://localhost:8080/",
     "height": 346
    },
    "executionInfo": {
     "elapsed": 1379,
     "status": "ok",
     "timestamp": 1640686987395,
     "user": {
      "displayName": "Ravi Savaliya",
      "photoUrl": "https://lh3.googleusercontent.com/a/default-user=s64",
      "userId": "00439214527936408803"
     },
     "user_tz": -330
    },
    "id": "7d000c24",
    "outputId": "7775ed7f-642f-4bed-e6cc-69fae2c2e745"
   },
   "outputs": [
    {
     "data": {
      "text/plain": [
       "<matplotlib.axes._subplots.AxesSubplot at 0x1472bf8>"
      ]
     },
     "execution_count": 17,
     "metadata": {},
     "output_type": "execute_result"
    },
    {
     "data": {
      "image/png": "[encoded data removed]",
      "text/plain": [
       "<Figure size 432x288 with 2 Axes>"
      ]
     },
     "metadata": {
      "needs_background": "light"
     },
     "output_type": "display_data"
    }
   ],
   "source": [
    "sns.heatmap(df.isnull(),cmap='viridis')   #using heatmap to visualize null values"
   ]
  },
  {
   "cell_type": "markdown",
   "metadata": {
    "id": "vnP4nT8PX9ZQ"
   },
   "source": [
    "## Question and Answers"
   ]
  },
  {
   "cell_type": "markdown",
   "metadata": {
    "id": "f715b0bf"
   },
   "source": [
    "### Q1.) For 'House of Cards',What is the 'Show_id' and Who is the 'Director' of the show?"
   ]
  },
  {
   "cell_type": "code",
   "execution_count": 18,
   "metadata": {
    "colab": {
     "base_uri": "https://localhost:8080/"
    },
    "executionInfo": {
     "elapsed": 124,
     "status": "ok",
     "timestamp": 1640686987397,
     "user": {
      "displayName": "Ravi Savaliya",
      "photoUrl": "https://lh3.googleusercontent.com/a/default-user=s64",
      "userId": "00439214527936408803"
     },
     "user_tz": -330
    },
    "id": "78de4c2e",
    "outputId": "1c039f8f-f8ae-448b-ad3c-b6a1fdd2d001"
   },
   "outputs": [
    {
     "data": {
      "text/plain": [
       "2832    s2833\n",
       "Name: Show_Id, dtype: object"
      ]
     },
     "execution_count": 18,
     "metadata": {},
     "output_type": "execute_result"
    }
   ],
   "source": [
    "df[df['Title']=='House of Cards']['Show_Id']"
   ]
  },
  {
   "cell_type": "code",
   "execution_count": 20,
   "metadata": {
    "colab": {
     "base_uri": "https://localhost:8080/"
    },
    "executionInfo": {
     "elapsed": 124,
     "status": "ok",
     "timestamp": 1640686987401,
     "user": {
      "displayName": "Ravi Savaliya",
      "photoUrl": "https://lh3.googleusercontent.com/a/default-user=s64",
      "userId": "00439214527936408803"
     },
     "user_tz": -330
    },
    "id": "d5797c0b",
    "outputId": "de1830a5-5520-4b5f-b8c5-d54a73ed47ea"
   },
   "outputs": [
    {
     "data": {
      "text/plain": [
       "['Robin Wright',\n",
       " 'David Fincher',\n",
       " 'Gerald McRaney',\n",
       " 'John David Coles',\n",
       " 'David Manson']"
      ]
     },
     "execution_count": 20,
     "metadata": {},
     "output_type": "execute_result"
    }
   ],
   "source": [
    "df[df['Title']=='House of Cards']['Director'].values[0].split(', ')\n",
    "# for i in director_list:\n",
    "#     print(i)"
   ]
  },
  {
   "cell_type": "markdown",
   "metadata": {
    "id": "8f318b75"
   },
   "source": [
    "### Q2.) In which year the highest number of TV Shows and Movies were released? Show using bar graph"
   ]
  },
  {
   "cell_type": "code",
   "execution_count": 21,
   "metadata": {
    "executionInfo": {
     "elapsed": 121,
     "status": "ok",
     "timestamp": 1640686987403,
     "user": {
      "displayName": "Ravi Savaliya",
      "photoUrl": "https://lh3.googleusercontent.com/a/default-user=s64",
      "userId": "00439214527936408803"
     },
     "user_tz": -330
    },
    "id": "3199c843"
   },
   "outputs": [
    {
     "data": {
      "text/plain": [
       "0      2020-08-14\n",
       "1      2016-12-23\n",
       "2      2018-12-20\n",
       "3      2017-11-16\n",
       "4      2020-01-01\n",
       "          ...    \n",
       "7784   2020-10-19\n",
       "7785   2019-03-02\n",
       "7786   2020-09-25\n",
       "7787   2020-10-31\n",
       "7788   2020-03-01\n",
       "Name: Release_Date, Length: 7787, dtype: datetime64[ns]"
      ]
     },
     "execution_count": 21,
     "metadata": {},
     "output_type": "execute_result"
    }
   ],
   "source": [
    "df['Release_Date']=pd.to_datetime(df['Release_Date'])\n",
    "df['Release_Date']"
   ]
  },
  {
   "cell_type": "code",
   "execution_count": 22,
   "metadata": {
    "executionInfo": {
     "elapsed": 140,
     "status": "ok",
     "timestamp": 1640686987424,
     "user": {
      "displayName": "Ravi Savaliya",
      "photoUrl": "https://lh3.googleusercontent.com/a/default-user=s64",
      "userId": "00439214527936408803"
     },
     "user_tz": -330
    },
    "id": "04c48dd7"
   },
   "outputs": [],
   "source": [
    "df['Release_Year']=df['Release_Date'].apply(lambda date:date.year)"
   ]
  },
  {
   "cell_type": "code",
   "execution_count": 23,
   "metadata": {
    "colab": {
     "base_uri": "https://localhost:8080/"
    },
    "executionInfo": {
     "elapsed": 139,
     "status": "ok",
     "timestamp": 1640686987427,
     "user": {
      "displayName": "Ravi Savaliya",
      "photoUrl": "https://lh3.googleusercontent.com/a/default-user=s64",
      "userId": "00439214527936408803"
     },
     "user_tz": -330
    },
    "id": "fb699586",
    "outputId": "1931c50c-7e6e-475b-e947-35eba425ec55"
   },
   "outputs": [
    {
     "data": {
      "text/plain": [
       "2019.0    2153\n",
       "Name: Release_Year, dtype: int64"
      ]
     },
     "execution_count": 23,
     "metadata": {},
     "output_type": "execute_result"
    }
   ],
   "source": [
    "df['Release_Year'].value_counts().head(1)"
   ]
  },
  {
   "cell_type": "code",
   "execution_count": null,
   "metadata": {
    "colab": {
     "base_uri": "https://localhost:8080/",
     "height": 0
    },
    "executionInfo": {
     "elapsed": 129,
     "status": "ok",
     "timestamp": 1640686987428,
     "user": {
      "displayName": "Ravi Savaliya",
      "photoUrl": "https://lh3.googleusercontent.com/a/default-user=s64",
      "userId": "00439214527936408803"
     },
     "user_tz": -330
    },
    "id": "1524fec8",
    "outputId": "523ab790-fc77-44db-9983-c12bd6facccb"
   },
   "outputs": [],
   "source": [
    "df['Release_Year'].value_counts().plot(kind='bar')"
   ]
  },
  {
   "cell_type": "markdown",
   "metadata": {
    "id": "4486bb45"
   },
   "source": [
    "### Q3.) How many TV Shows and Movies are there in the dataset? Show with bar graph"
   ]
  },
  {
   "cell_type": "code",
   "execution_count": null,
   "metadata": {
    "colab": {
     "base_uri": "https://localhost:8080/"
    },
    "executionInfo": {
     "elapsed": 124,
     "status": "ok",
     "timestamp": 1640686987430,
     "user": {
      "displayName": "Ravi Savaliya",
      "photoUrl": "https://lh3.googleusercontent.com/a/default-user=s64",
      "userId": "00439214527936408803"
     },
     "user_tz": -330
    },
    "id": "fec61e60",
    "outputId": "1bba5050-f1d5-4793-eb6c-4f07244f8893"
   },
   "outputs": [],
   "source": [
    "a=df.groupby('Category').Category.count()\n",
    "a"
   ]
  },
  {
   "cell_type": "code",
   "execution_count": null,
   "metadata": {
    "colab": {
     "base_uri": "https://localhost:8080/",
     "height": 0
    },
    "executionInfo": {
     "elapsed": 124,
     "status": "ok",
     "timestamp": 1640686987433,
     "user": {
      "displayName": "Ravi Savaliya",
      "photoUrl": "https://lh3.googleusercontent.com/a/default-user=s64",
      "userId": "00439214527936408803"
     },
     "user_tz": -330
    },
    "id": "86fb6cb5",
    "outputId": "f32d96f4-01bd-4c53-900e-4c9817e8685d"
   },
   "outputs": [],
   "source": [
    "sns.countplot(x='Category',data=df)"
   ]
  },
  {
   "cell_type": "markdown",
   "metadata": {
    "id": "5cb287c7"
   },
   "source": [
    "### Q4.) Show all the movies released in the year 2000"
   ]
  },
  {
   "cell_type": "code",
   "execution_count": null,
   "metadata": {
    "colab": {
     "base_uri": "https://localhost:8080/",
     "height": 0
    },
    "executionInfo": {
     "elapsed": 1664,
     "status": "ok",
     "timestamp": 1640686988980,
     "user": {
      "displayName": "Ravi Savaliya",
      "photoUrl": "https://lh3.googleusercontent.com/a/default-user=s64",
      "userId": "00439214527936408803"
     },
     "user_tz": -330
    },
    "id": "08df686b",
    "outputId": "c2740e26-793d-4be5-e9c3-ca27db162336"
   },
   "outputs": [],
   "source": [
    "df[(df['Release_Year']==2000) & (df['Category']=='Movie')]"
   ]
  },
  {
   "cell_type": "code",
   "execution_count": null,
   "metadata": {
    "colab": {
     "base_uri": "https://localhost:8080/",
     "height": 0
    },
    "executionInfo": {
     "elapsed": 136,
     "status": "ok",
     "timestamp": 1640686988983,
     "user": {
      "displayName": "Ravi Savaliya",
      "photoUrl": "https://lh3.googleusercontent.com/a/default-user=s64",
      "userId": "00439214527936408803"
     },
     "user_tz": -330
    },
    "id": "5364fa67",
    "outputId": "8c8bb3a5-d796-49d6-dca0-0de2588bc030"
   },
   "outputs": [],
   "source": [
    "# i.e no movies were released in the year 2000\n",
    "#let's try with the year 2020\n",
    "df[(df['Release_Year']==2020) & (df['Category']=='Movie')]"
   ]
  },
  {
   "cell_type": "markdown",
   "metadata": {
    "id": "cbb69e15"
   },
   "source": [
    "### Q5.) Show only the titles of the TV Shows that were released in India only."
   ]
  },
  {
   "cell_type": "code",
   "execution_count": null,
   "metadata": {
    "executionInfo": {
     "elapsed": 129,
     "status": "ok",
     "timestamp": 1640686988987,
     "user": {
      "displayName": "Ravi Savaliya",
      "photoUrl": "https://lh3.googleusercontent.com/a/default-user=s64",
      "userId": "00439214527936408803"
     },
     "user_tz": -330
    },
    "id": "2aed1a36"
   },
   "outputs": [],
   "source": [
    "released_only_in_india=list(df[(df['Country']=='India') & (df['Category']=='TV Show')]['Title'])"
   ]
  },
  {
   "cell_type": "code",
   "execution_count": null,
   "metadata": {
    "colab": {
     "base_uri": "https://localhost:8080/"
    },
    "executionInfo": {
     "elapsed": 134,
     "status": "ok",
     "timestamp": 1640686988992,
     "user": {
      "displayName": "Ravi Savaliya",
      "photoUrl": "https://lh3.googleusercontent.com/a/default-user=s64",
      "userId": "00439214527936408803"
     },
     "user_tz": -330
    },
    "id": "f6e7ea03",
    "outputId": "66525711-6523-41cb-c819-c5793eaf389c"
   },
   "outputs": [],
   "source": [
    "released_only_in_india"
   ]
  },
  {
   "cell_type": "markdown",
   "metadata": {
    "id": "ce02a54c"
   },
   "source": [
    "### Q6.) Show Top 10 Directors, who gave the highest number on TV Shows and Movies to Netflix"
   ]
  },
  {
   "cell_type": "code",
   "execution_count": null,
   "metadata": {
    "colab": {
     "base_uri": "https://localhost:8080/"
    },
    "executionInfo": {
     "elapsed": 133,
     "status": "ok",
     "timestamp": 1640686988994,
     "user": {
      "displayName": "Ravi Savaliya",
      "photoUrl": "https://lh3.googleusercontent.com/a/default-user=s64",
      "userId": "00439214527936408803"
     },
     "user_tz": -330
    },
    "id": "46565a2b",
    "outputId": "fa1baaa3-f4e2-44ac-9914-09f1b1fae75c",
    "scrolled": false
   },
   "outputs": [],
   "source": [
    "df['Director'].value_counts().head(10)"
   ]
  },
  {
   "cell_type": "markdown",
   "metadata": {
    "id": "841cbd30"
   },
   "source": [
    "### Q7.) Show all the records where 'Category is Movie' and 'Type is Comedies'."
   ]
  },
  {
   "cell_type": "code",
   "execution_count": null,
   "metadata": {
    "colab": {
     "base_uri": "https://localhost:8080/",
     "height": 0
    },
    "executionInfo": {
     "elapsed": 136,
     "status": "ok",
     "timestamp": 1640686988999,
     "user": {
      "displayName": "Ravi Savaliya",
      "photoUrl": "https://lh3.googleusercontent.com/a/default-user=s64",
      "userId": "00439214527936408803"
     },
     "user_tz": -330
    },
    "id": "4cf2fd92",
    "outputId": "f99ee0ad-5a0b-462f-d2a8-6cf3596983a4"
   },
   "outputs": [],
   "source": [
    "df[(df['Category']=='Movie') & (df['Type']=='Comedies')]"
   ]
  },
  {
   "cell_type": "markdown",
   "metadata": {
    "id": "9990b78c"
   },
   "source": [
    "### Q8.) In how many TV Show's or Movies was Tom Cruise was cast?"
   ]
  },
  {
   "cell_type": "code",
   "execution_count": null,
   "metadata": {
    "colab": {
     "base_uri": "https://localhost:8080/",
     "height": 50
    },
    "executionInfo": {
     "elapsed": 136,
     "status": "ok",
     "timestamp": 1640686989002,
     "user": {
      "displayName": "Ravi Savaliya",
      "photoUrl": "https://lh3.googleusercontent.com/a/default-user=s64",
      "userId": "00439214527936408803"
     },
     "user_tz": -330
    },
    "id": "42e4fb0a",
    "outputId": "f9150d51-d6b3-4958-9813-ac85b36ab0ad"
   },
   "outputs": [],
   "source": [
    "df[df['Cast']=='Tom Cruise']  #doesn't work with multiple elements"
   ]
  },
  {
   "cell_type": "code",
   "execution_count": null,
   "metadata": {
    "executionInfo": {
     "elapsed": 131,
     "status": "ok",
     "timestamp": 1640686989005,
     "user": {
      "displayName": "Ravi Savaliya",
      "photoUrl": "https://lh3.googleusercontent.com/a/default-user=s64",
      "userId": "00439214527936408803"
     },
     "user_tz": -330
    },
    "id": "691ffda8"
   },
   "outputs": [],
   "source": [
    "# therefore Tom Cruise was not casted in any Netflix TV Show or Movie according to the previous operation.."
   ]
  },
  {
   "cell_type": "code",
   "execution_count": null,
   "metadata": {
    "colab": {
     "base_uri": "https://localhost:8080/",
     "height": 310
    },
    "executionInfo": {
     "elapsed": 192,
     "status": "error",
     "timestamp": 1640686989067,
     "user": {
      "displayName": "Ravi Savaliya",
      "photoUrl": "https://lh3.googleusercontent.com/a/default-user=s64",
      "userId": "00439214527936408803"
     },
     "user_tz": -330
    },
    "id": "52f4542d",
    "outputId": "8efd8093-2b7f-4dc8-cf45-d7e39bebf279"
   },
   "outputs": [],
   "source": [
    "df[df['Cast'].str.contains('Tom Cruise')]   #doesn't work as there are NaN/NA values as well"
   ]
  },
  {
   "cell_type": "code",
   "execution_count": null,
   "metadata": {
    "executionInfo": {
     "elapsed": 130,
     "status": "aborted",
     "timestamp": 1640686989008,
     "user": {
      "displayName": "Ravi Savaliya",
      "photoUrl": "https://lh3.googleusercontent.com/a/default-user=s64",
      "userId": "00439214527936408803"
     },
     "user_tz": -330
    },
    "id": "9372d0b3"
   },
   "outputs": [],
   "source": [
    "new_df=df.dropna()"
   ]
  },
  {
   "cell_type": "code",
   "execution_count": null,
   "metadata": {
    "executionInfo": {
     "elapsed": 137,
     "status": "aborted",
     "timestamp": 1640686989015,
     "user": {
      "displayName": "Ravi Savaliya",
      "photoUrl": "https://lh3.googleusercontent.com/a/default-user=s64",
      "userId": "00439214527936408803"
     },
     "user_tz": -330
    },
    "id": "5aac59af"
   },
   "outputs": [],
   "source": [
    "new_df.head(2)"
   ]
  },
  {
   "cell_type": "code",
   "execution_count": null,
   "metadata": {
    "executionInfo": {
     "elapsed": 142,
     "status": "aborted",
     "timestamp": 1640686989020,
     "user": {
      "displayName": "Ravi Savaliya",
      "photoUrl": "https://lh3.googleusercontent.com/a/default-user=s64",
      "userId": "00439214527936408803"
     },
     "user_tz": -330
    },
    "id": "e3e8922c"
   },
   "outputs": [],
   "source": [
    "new_df[new_df['Cast'].str.contains('Tom Cruise')]"
   ]
  },
  {
   "cell_type": "markdown",
   "metadata": {
    "id": "141313e1"
   },
   "source": [
    "### Q9.) What are the different Ratings defined by Netflix ?"
   ]
  },
  {
   "cell_type": "code",
   "execution_count": null,
   "metadata": {
    "executionInfo": {
     "elapsed": 155,
     "status": "aborted",
     "timestamp": 1640686989034,
     "user": {
      "displayName": "Ravi Savaliya",
      "photoUrl": "https://lh3.googleusercontent.com/a/default-user=s64",
      "userId": "00439214527936408803"
     },
     "user_tz": -330
    },
    "id": "3222a6e5"
   },
   "outputs": [],
   "source": [
    "df['Rating'].nunique()"
   ]
  },
  {
   "cell_type": "code",
   "execution_count": null,
   "metadata": {
    "executionInfo": {
     "elapsed": 158,
     "status": "aborted",
     "timestamp": 1640686989037,
     "user": {
      "displayName": "Ravi Savaliya",
      "photoUrl": "https://lh3.googleusercontent.com/a/default-user=s64",
      "userId": "00439214527936408803"
     },
     "user_tz": -330
    },
    "id": "0a22a113"
   },
   "outputs": [],
   "source": [
    "df['Rating'].unique()"
   ]
  },
  {
   "cell_type": "markdown",
   "metadata": {
    "id": "f6d9a469"
   },
   "source": [
    "### Q10.)  How many Movies got the 'TV-14' rating, in Canada ?"
   ]
  },
  {
   "cell_type": "code",
   "execution_count": null,
   "metadata": {
    "executionInfo": {
     "elapsed": 161,
     "status": "aborted",
     "timestamp": 1640686989040,
     "user": {
      "displayName": "Ravi Savaliya",
      "photoUrl": "https://lh3.googleusercontent.com/a/default-user=s64",
      "userId": "00439214527936408803"
     },
     "user_tz": -330
    },
    "id": "8ea0633f"
   },
   "outputs": [],
   "source": [
    "len(df[(df['Rating']=='TV-14') & (df['Country']=='Canada')])"
   ]
  },
  {
   "cell_type": "markdown",
   "metadata": {
    "id": "81829dcf"
   },
   "source": [
    "### Q11.)  How many TV Shows got the 'R' rating, after year 2018 ?"
   ]
  },
  {
   "cell_type": "code",
   "execution_count": null,
   "metadata": {
    "executionInfo": {
     "elapsed": 162,
     "status": "aborted",
     "timestamp": 1640686989042,
     "user": {
      "displayName": "Ravi Savaliya",
      "photoUrl": "https://lh3.googleusercontent.com/a/default-user=s64",
      "userId": "00439214527936408803"
     },
     "user_tz": -330
    },
    "id": "c382510d"
   },
   "outputs": [],
   "source": [
    "len(df[(df['Category']=='TV Show') & (df['Rating']=='R') & (df['Release_Year']>2018)])"
   ]
  },
  {
   "cell_type": "markdown",
   "metadata": {
    "id": "d3238ea2"
   },
   "source": [
    "### Q12.)  What is the maximum duration of a Movie/Show on Netflix ? "
   ]
  },
  {
   "cell_type": "code",
   "execution_count": null,
   "metadata": {
    "executionInfo": {
     "elapsed": 165,
     "status": "aborted",
     "timestamp": 1640686989045,
     "user": {
      "displayName": "Ravi Savaliya",
      "photoUrl": "https://lh3.googleusercontent.com/a/default-user=s64",
      "userId": "00439214527936408803"
     },
     "user_tz": -330
    },
    "id": "1d5aff90"
   },
   "outputs": [],
   "source": [
    "df[['Duration Min','Unit']]=df['Duration'].str.split(' ',expand=True)"
   ]
  },
  {
   "cell_type": "code",
   "execution_count": null,
   "metadata": {
    "executionInfo": {
     "elapsed": 168,
     "status": "aborted",
     "timestamp": 1640686989048,
     "user": {
      "displayName": "Ravi Savaliya",
      "photoUrl": "https://lh3.googleusercontent.com/a/default-user=s64",
      "userId": "00439214527936408803"
     },
     "user_tz": -330
    },
    "id": "59bdf308"
   },
   "outputs": [],
   "source": [
    "df.head(2)"
   ]
  },
  {
   "cell_type": "code",
   "execution_count": null,
   "metadata": {
    "executionInfo": {
     "elapsed": 171,
     "status": "aborted",
     "timestamp": 1640686989052,
     "user": {
      "displayName": "Ravi Savaliya",
      "photoUrl": "https://lh3.googleusercontent.com/a/default-user=s64",
      "userId": "00439214527936408803"
     },
     "user_tz": -330
    },
    "id": "01332719"
   },
   "outputs": [],
   "source": [
    "df['Duration Min']=pd.to_numeric(df['Duration Min'])\n",
    "df['Duration Min'].max()"
   ]
  },
  {
   "cell_type": "code",
   "execution_count": null,
   "metadata": {},
   "outputs": [],
   "source": []
  },
  {
   "cell_type": "code",
   "execution_count": null,
   "metadata": {},
   "outputs": [],
   "source": [
    "df.Unit.value_counts()\n",
    "df.loc[df.Unit=='Season','Duration Min'].describe()"
   ]
  },
  {
   "cell_type": "markdown",
   "metadata": {
    "id": "453944b2"
   },
   "source": [
    "### Q13.)  Which individual country has the Highest No. of TV Shows ?"
   ]
  },
  {
   "cell_type": "code",
   "execution_count": null,
   "metadata": {
    "executionInfo": {
     "elapsed": 174,
     "status": "aborted",
     "timestamp": 1640686989055,
     "user": {
      "displayName": "Ravi Savaliya",
      "photoUrl": "https://lh3.googleusercontent.com/a/default-user=s64",
      "userId": "00439214527936408803"
     },
     "user_tz": -330
    },
    "id": "7bc851f6"
   },
   "outputs": [],
   "source": [
    "tv_show=df[df['Category']=='TV Show']"
   ]
  },
  {
   "cell_type": "code",
   "execution_count": null,
   "metadata": {
    "executionInfo": {
     "elapsed": 175,
     "status": "aborted",
     "timestamp": 1640686989057,
     "user": {
      "displayName": "Ravi Savaliya",
      "photoUrl": "https://lh3.googleusercontent.com/a/default-user=s64",
      "userId": "00439214527936408803"
     },
     "user_tz": -330
    },
    "id": "7ca9aedb"
   },
   "outputs": [],
   "source": [
    "tv_show.head(2)"
   ]
  },
  {
   "cell_type": "code",
   "execution_count": null,
   "metadata": {
    "executionInfo": {
     "elapsed": 176,
     "status": "aborted",
     "timestamp": 1640686989059,
     "user": {
      "displayName": "Ravi Savaliya",
      "photoUrl": "https://lh3.googleusercontent.com/a/default-user=s64",
      "userId": "00439214527936408803"
     },
     "user_tz": -330
    },
    "id": "0b31a26b"
   },
   "outputs": [],
   "source": [
    "tv_show['Country'].value_counts().head(1)"
   ]
  },
  {
   "cell_type": "markdown",
   "metadata": {
    "id": "3d61be65"
   },
   "source": [
    "### Q14.)  Find all the instances where: Category is 'Movie and Type is Dramas' or Category is 'TV Show' & Type is Kids' TV'.\n"
   ]
  },
  {
   "cell_type": "code",
   "execution_count": null,
   "metadata": {
    "executionInfo": {
     "elapsed": 177,
     "status": "aborted",
     "timestamp": 1640686989060,
     "user": {
      "displayName": "Ravi Savaliya",
      "photoUrl": "https://lh3.googleusercontent.com/a/default-user=s64",
      "userId": "00439214527936408803"
     },
     "user_tz": -330
    },
    "id": "32a55afa"
   },
   "outputs": [],
   "source": [
    "df[(df['Category']=='Movie') & (df['Type']=='Dramas') | (df['Category']=='TV Show') & (df['Type']==\"Kids' TV\")]"
   ]
  },
  {
   "cell_type": "markdown",
   "metadata": {
    "id": "40596db1"
   },
   "source": [
    "### Q15.) How can we sort the dataset by Year ?"
   ]
  },
  {
   "cell_type": "code",
   "execution_count": null,
   "metadata": {
    "executionInfo": {
     "elapsed": 178,
     "status": "aborted",
     "timestamp": 1640686989063,
     "user": {
      "displayName": "Ravi Savaliya",
      "photoUrl": "https://lh3.googleusercontent.com/a/default-user=s64",
      "userId": "00439214527936408803"
     },
     "user_tz": -330
    },
    "id": "405d2343"
   },
   "outputs": [],
   "source": [
    "df.sort_values(by='Release_Year')"
   ]
  },
  {
   "cell_type": "code",
   "execution_count": null,
   "metadata": {
    "executionInfo": {
     "elapsed": 178,
     "status": "aborted",
     "timestamp": 1640686989064,
     "user": {
      "displayName": "Ravi Savaliya",
      "photoUrl": "https://lh3.googleusercontent.com/a/default-user=s64",
      "userId": "00439214527936408803"
     },
     "user_tz": -330
    },
    "id": "ee36e06a"
   },
   "outputs": [],
   "source": [
    "df.sort_values(by='Release_Year',ascending=False)"
   ]
  },
  {
   "cell_type": "code",
   "execution_count": null,
   "metadata": {},
   "outputs": [],
   "source": []
  }
 ],
 "metadata": {
  "colab": {
   "collapsed_sections": [
    "dac99377",
    "f1e35825",
    "e5ff7088",
    "bb1e5c17",
    "vnP4nT8PX9ZQ",
    "f715b0bf",
    "8f318b75",
    "4486bb45",
    "5cb287c7",
    "cbb69e15",
    "ce02a54c",
    "841cbd30",
    "9990b78c",
    "141313e1",
    "f6d9a469",
    "81829dcf",
    "d3238ea2",
    "453944b2",
    "3d61be65",
    "40596db1"
   ],
   "name": "main.ipynb",
   "provenance": []
  },
  "kernelspec": {
   "display_name": "Python 3",
   "language": "python",
   "name": "python3"
  },
  "language_info": {
   "codemirror_mode": {
    "name": "ipython",
    "version": 3
   },
   "file_extension": ".py",
   "mimetype": "text/x-python",
   "name": "python",
   "nbconvert_exporter": "python",
   "pygments_lexer": "ipython3",
   "version": "3.8.3"
  }
 },
 "nbformat": 4,
 "nbformat_minor": 5
}
